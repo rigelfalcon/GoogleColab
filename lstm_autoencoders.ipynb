{
  "nbformat": 4,
  "nbformat_minor": 0,
  "metadata": {
    "colab": {
      "name": "lstm_autoencoders.ipynb",
      "version": "0.3.2",
      "provenance": [],
      "collapsed_sections": [],
      "include_colab_link": true
    },
    "kernelspec": {
      "name": "python3",
      "display_name": "Python 3"
    }
  },
  "cells": [
    {
      "cell_type": "markdown",
      "metadata": {
        "id": "view-in-github",
        "colab_type": "text"
      },
      "source": [
        "<a href=\"https://colab.research.google.com/github/rigelfalcon/GoogleColab/blob/master/lstm_autoencoders.ipynb\" target=\"_parent\"><img src=\"https://colab.research.google.com/assets/colab-badge.svg\" alt=\"Open In Colab\"/></a>"
      ]
    },
    {
      "metadata": {
        "id": "0SKoDVROTsyy",
        "colab_type": "text"
      },
      "cell_type": "markdown",
      "source": [
        "\n",
        "From: https://machinelearningmastery.com/lstm-autoencoders/"
      ]
    },
    {
      "metadata": {
        "id": "dDUgYn5SUb3J",
        "colab_type": "code",
        "colab": {}
      },
      "cell_type": "code",
      "source": [
        "%matplotlib inline\n",
        "import matplotlib\n",
        "import numpy as np\n",
        "import matplotlib.pyplot as plt\n",
        "import matplotlib.image as mpimg"
      ],
      "execution_count": 0,
      "outputs": []
    },
    {
      "metadata": {
        "id": "wdHo-xZlTT5W",
        "colab_type": "code",
        "outputId": "a7749cd5-0915-4002-9611-ecdfa0ad0ff4",
        "colab": {
          "base_uri": "https://localhost:8080/",
          "height": 305
        }
      },
      "cell_type": "code",
      "source": [
        "# lstm autoencoder recreate sequence\n",
        "from numpy import array\n",
        "from keras.models import Sequential\n",
        "from keras.layers import LSTM\n",
        "from keras.layers import Dense\n",
        "from keras.layers import RepeatVector\n",
        "from keras.layers import TimeDistributed\n",
        "from keras.utils import plot_model\n",
        "# define input sequence\n",
        "sequence = array([0.1, 0.2, 0.3, 0.4, 0.5, 0.6, 0.7, 0.8, 0.9])\n",
        "# reshape input into [samples, timesteps, features]\n",
        "n_in = len(sequence)\n",
        "sequence = sequence.reshape((1, n_in, 1))\n",
        "# define model\n",
        "model = Sequential()\n",
        "model.add(LSTM(100, activation='relu', input_shape=(n_in,1)))\n",
        "model.add(RepeatVector(n_in))\n",
        "model.add(LSTM(100, activation='relu', return_sequences=True))\n",
        "model.add(TimeDistributed(Dense(1)))\n",
        "model.compile(optimizer='adam', loss='mse')\n",
        "# fit model\n",
        "model.fit(sequence, sequence, epochs=300, verbose=0)\n",
        "plot_model(model, show_shapes=True, to_file='reconstruct_lstm_autoencoder.png')\n",
        "img=mpimg.imread('reconstruct_lstm_autoencoder.png')\n",
        "imgplot = plt.imshow(img)\n",
        "# demonstrate recreation\n",
        "yhat = model.predict(sequence, verbose=0)\n",
        "print(yhat[0,:,0])\n"
      ],
      "execution_count": 0,
      "outputs": [
        {
          "output_type": "stream",
          "text": [
            "[0.10485281 0.20066825 0.29959437 0.3999267  0.4993382  0.5985376\n",
            " 0.69826764 0.79932195 0.9025682 ]\n"
          ],
          "name": "stdout"
        },
        {
          "output_type": "display_data",
          "data": {
            "image/png": "[encoded data removed]",
            "text/plain": [
              "<Figure size 432x288 with 1 Axes>"
            ]
          },
          "metadata": {
            "tags": []
          }
        }
      ]
    },
    {
      "metadata": {
        "id": "VrZg3jbwU06O",
        "colab_type": "code",
        "outputId": "f3c3539e-ea47-4044-9aba-c04d78cdbdad",
        "colab": {
          "base_uri": "https://localhost:8080/",
          "height": 304
        }
      },
      "cell_type": "code",
      "source": [
        "# lstm autoencoder predict sequence\n",
        "from numpy import array\n",
        "from keras.models import Sequential\n",
        "from keras.layers import LSTM\n",
        "from keras.layers import Dense\n",
        "from keras.layers import RepeatVector\n",
        "from keras.layers import TimeDistributed\n",
        "from keras.utils import plot_model\n",
        "# define input sequence\n",
        "seq_in = array([0.1, 0.2, 0.3, 0.4, 0.5, 0.6, 0.7, 0.8, 0.9])\n",
        "# reshape input into [samples, timesteps, features]\n",
        "n_in = len(seq_in)\n",
        "seq_in = seq_in.reshape((1, n_in, 1))\n",
        "# prepare output sequence\n",
        "seq_out = seq_in[:, 1:, :]\n",
        "n_out = n_in - 1\n",
        "# define model\n",
        "model = Sequential()\n",
        "model.add(LSTM(100, activation='relu', input_shape=(n_in,1)))\n",
        "model.add(RepeatVector(n_out))\n",
        "model.add(LSTM(100, activation='relu', return_sequences=True))\n",
        "model.add(TimeDistributed(Dense(1)))\n",
        "model.compile(optimizer='adam', loss='mse')\n",
        "plot_model(model, show_shapes=True, to_file='predict_lstm_autoencoder.png')\n",
        "img=mpimg.imread('predict_lstm_autoencoder.png')\n",
        "imgplot = plt.imshow(img)\n",
        "# fit model\n",
        "model.fit(seq_in, seq_out, epochs=300, verbose=0)\n",
        "# demonstrate prediction\n",
        "yhat = model.predict(seq_in, verbose=0)\n",
        "print(yhat[0,:,0])"
      ],
      "execution_count": 0,
      "outputs": [
        {
          "output_type": "stream",
          "text": [
            "[0.1654949  0.29052913 0.40411365 0.509343   0.60931647 0.7056261\n",
            " 0.7994083  0.891678  ]\n"
          ],
          "name": "stdout"
        },
        {
          "output_type": "display_data",
          "data": {
            "image/png": "[encoded data removed]",
            "text/plain": [
              "<Figure size 432x288 with 1 Axes>"
            ]
          },
          "metadata": {
            "tags": []
          }
        }
      ]
    },
    {
      "metadata": {
        "id": "wodlqWa9VIc0",
        "colab_type": "code",
        "outputId": "51117719-9cde-493e-858d-34ea754b79b0",
        "colab": {
          "base_uri": "https://localhost:8080/",
          "height": 462
        }
      },
      "cell_type": "code",
      "source": [
        "# lstm autoencoder reconstruct and predict sequence\n",
        "from numpy import array\n",
        "from keras.models import Model\n",
        "from keras.layers import Input\n",
        "from keras.layers import LSTM\n",
        "from keras.layers import Dense\n",
        "from keras.layers import RepeatVector\n",
        "from keras.layers import TimeDistributed\n",
        "from keras.utils import plot_model\n",
        "# define input sequence\n",
        "seq_in = array([0.1, 0.2, 0.3, 0.4, 0.5, 0.6, 0.7, 0.8, 0.9])\n",
        "# reshape input into [samples, timesteps, features]\n",
        "n_in = len(seq_in)\n",
        "seq_in = seq_in.reshape((1, n_in, 1))\n",
        "# prepare output sequence\n",
        "seq_out = seq_in[:, 1:, :]\n",
        "n_out = n_in - 1\n",
        "# define encoder\n",
        "visible = Input(shape=(n_in,1))\n",
        "encoder = LSTM(100, activation='relu')(visible)\n",
        "# define reconstruct decoder\n",
        "decoder1 = RepeatVector(n_in)(encoder)\n",
        "decoder1 = LSTM(100, activation='relu', return_sequences=True)(decoder1)\n",
        "decoder1 = TimeDistributed(Dense(1))(decoder1)\n",
        "# define predict decoder\n",
        "decoder2 = RepeatVector(n_out)(encoder)\n",
        "decoder2 = LSTM(100, activation='relu', return_sequences=True)(decoder2)\n",
        "decoder2 = TimeDistributed(Dense(1))(decoder2)\n",
        "# tie it together\n",
        "model = Model(inputs=visible, outputs=[decoder1, decoder2])\n",
        "model.compile(optimizer='adam', loss='mse')\n",
        "plot_model(model, show_shapes=True, to_file='composite_lstm_autoencoder.png')\n",
        "img=mpimg.imread('composite_lstm_autoencoder.png')\n",
        "imgplot = plt.imshow(img)\n",
        "# fit model\n",
        "model.fit(seq_in, [seq_in,seq_out], epochs=300, verbose=0)\n",
        "# demonstrate prediction\n",
        "yhat = model.predict(seq_in, verbose=0)\n",
        "print(yhat)"
      ],
      "execution_count": 0,
      "outputs": [
        {
          "output_type": "stream",
          "text": [
            "[array([[[0.10730295],\n",
            "        [0.20617147],\n",
            "        [0.30367425],\n",
            "        [0.40057048],\n",
            "        [0.4976358 ],\n",
            "        [0.5956873 ],\n",
            "        [0.6956106 ],\n",
            "        [0.79839146],\n",
            "        [0.9051556 ]]], dtype=float32), array([[[0.17693494],\n",
            "        [0.29966378],\n",
            "        [0.40629044],\n",
            "        [0.50431335],\n",
            "        [0.59969527],\n",
            "        [0.69683564],\n",
            "        [0.79619634],\n",
            "        [0.9018917 ]]], dtype=float32)]\n"
          ],
          "name": "stdout"
        },
        {
          "output_type": "display_data",
          "data": {
            "image/png": "[encoded data removed]",
            "text/plain": [
              "<Figure size 432x288 with 1 Axes>"
            ]
          },
          "metadata": {
            "tags": []
          }
        }
      ]
    },
    {
      "metadata": {
        "id": "kKg__T7gxK-t",
        "colab_type": "code",
        "outputId": "6aef8ded-997a-4e88-cbfe-502812ba87cb",
        "colab": {
          "base_uri": "https://localhost:8080/",
          "height": 34
        }
      },
      "cell_type": "code",
      "source": [
        "import numpy as np\n",
        "from keras.models import Model\n",
        "from keras.layers import Input\n",
        "from keras.layers import LSTM\n",
        "from keras.layers import Dense\n",
        "from keras.layers import RepeatVector\n",
        "from keras.layers import TimeDistributed\n",
        "from keras.utils import plot_model\n",
        "%matplotlib inline\n",
        "import matplotlib\n",
        "import matplotlib.pyplot as plt\n",
        "import matplotlib.image as mpimg\n"
      ],
      "execution_count": 0,
      "outputs": [
        {
          "output_type": "stream",
          "text": [
            "Using TensorFlow backend.\n"
          ],
          "name": "stderr"
        }
      ]
    },
    {
      "metadata": {
        "id": "hsBL9UVWw_EP",
        "colab_type": "code",
        "outputId": "9139b4eb-6a94-4455-d62f-5399df3f902f",
        "colab": {
          "base_uri": "https://localhost:8080/",
          "height": 286
        }
      },
      "cell_type": "code",
      "source": [
        "#%% generate data\n",
        "#generate sin(x)\n",
        "def SeriesGen(N):\n",
        "  x=np.arange(1,N,0.01)\n",
        "  return np.sin(x)\n",
        "#use generated sin(x) to generate sample.\n",
        "#input:x,x+1,x+2... \n",
        "#output:x+2,x+3,x+4...\n",
        "def TrainDataGen(seq,k):\n",
        "  dat=list()\n",
        "  L=len(seq)\n",
        "  for i in range(L-k-1):\n",
        "    indat=seq[i:i+k]\n",
        "    outdat=seq[i+1:i+k+1]\n",
        "    dat.append((indat,outdat))\n",
        "  return dat\n",
        "\n",
        "y = SeriesGen(10)\n",
        "dat = TrainDataGen(y, 10)\n",
        "plt.figure(1)\n",
        "##integral\n",
        "plt.subplot(211)\n",
        "plt.plot(y)\n",
        "##local\n",
        "plt.subplot(212)\n",
        "plt.plot(dat[0][0])\n",
        "plt.plot(dat[0][1])"
      ],
      "execution_count": 0,
      "outputs": [
        {
          "output_type": "execute_result",
          "data": {
            "text/plain": [
              "[<matplotlib.lines.Line2D at 0x7f7517fbdb00>]"
            ]
          },
          "metadata": {
            "tags": []
          },
          "execution_count": 3
        },
        {
          "output_type": "display_data",
          "data": {
            "image/png": "[encoded data removed]",
            "text/plain": [
              "<Figure size 432x288 with 2 Axes>"
            ]
          },
          "metadata": {
            "tags": []
          }
        }
      ]
    },
    {
      "metadata": {
        "id": "4hD0m0GbzX_A",
        "colab_type": "code",
        "colab": {}
      },
      "cell_type": "code",
      "source": [
        "# define input sequence\n",
        "seq_in = np.array([0.1, 0.2, 0.3, 0.4, 0.5, 0.6, 0.7, 0.8, 0.9])\n",
        "#seq_in =\n",
        "\n",
        "\n",
        "# reshape input into [samples, timesteps, features]\n",
        "n_in = len(seq_in)\n",
        "seq_in = seq_in.reshape((1, n_in, 1))\n",
        "# prepare output sequence\n",
        "seq_out = seq_in[:, 1:, :]\n",
        "n_out = n_in - 1\n"
      ],
      "execution_count": 0,
      "outputs": []
    },
    {
      "metadata": {
        "id": "6DDa3ba8yO9b",
        "colab_type": "code",
        "colab": {}
      },
      "cell_type": "code",
      "source": [
        ""
      ],
      "execution_count": 0,
      "outputs": []
    },
    {
      "metadata": {
        "id": "J663isLcwKBm",
        "colab_type": "code",
        "outputId": "ca0aa5d9-0350-4ff9-8897-eb64ce577157",
        "colab": {
          "base_uri": "https://localhost:8080/",
          "height": 533
        }
      },
      "cell_type": "code",
      "source": [
        "# -*- coding: utf-8 -*-\n",
        "\"\"\"\n",
        "Created on Fri Apr 12 16:34:29 2019\n",
        "\n",
        "@author: Rigel\n",
        "\"\"\"\n",
        "#\n",
        "#from keras.models import Sequential\n",
        "#from keras.layers import Dense\n",
        "\n",
        "\n",
        "#\n",
        "#\n",
        "##%%\n",
        "#model = Sequential([Dense(2, input_dim=1), Dense(1)])\n",
        "##or\n",
        "##model = Sequential()\n",
        "##model.add(Dense(2, input_dim=1))\n",
        "##model.add(Dense(1))\n",
        "#\n",
        "##%%\n",
        "#from keras.layers import Input\n",
        "#visible = Input(shape=(2,))\n",
        "#\n",
        "#\n",
        "##%%\n",
        "#from keras.layers import Input\n",
        "#from keras.layers import Dense\n",
        "#visible = Input(shape=(2,))\n",
        "#hidden = Dense(2)(visible)\n",
        "\n",
        "\n",
        "\n",
        "\n",
        "\n",
        "#\n",
        "##%% Multilayer Perceptron\n",
        "#from keras.utils import plot_model\n",
        "#from keras.models import Model\n",
        "#from keras.layers import Input\n",
        "#from keras.layers import Dense\n",
        "#visible = Input(shape=(10,))\n",
        "#hidden1 = Dense(10, activation='relu')(visible)\n",
        "#hidden2 = Dense(20, activation='relu')(hidden1)\n",
        "#hidden3 = Dense(10, activation='relu')(hidden2)\n",
        "#output = Dense(1, activation='sigmoid')(hidden3)\n",
        "#model = Model(inputs=visible, outputs=output)\n",
        "## summarize layers\n",
        "#print(model.summary())\n",
        "## plot graph\n",
        "#plot_model(model, to_file='multilayer_perceptron_graph.png')\n",
        "#\n",
        "#\n",
        "#\n",
        "#%%\n",
        "import numpy as np\n",
        "from keras.models import Model\n",
        "from keras.layers import Input\n",
        "from keras.layers import LSTM\n",
        "from keras.layers import Dense\n",
        "from keras.layers import RepeatVector\n",
        "from keras.layers import TimeDistributed\n",
        "from keras.utils import plot_model\n",
        "#%matplotlib inline\n",
        "import matplotlib\n",
        "import matplotlib.pyplot as plt\n",
        "import matplotlib.image as mpimg\n",
        "\n",
        "\n",
        "#%% generate data\n",
        "#generate sin(x)\n",
        "def SeriesGen(N):\n",
        "  x=np.arange(1,N,0.01)\n",
        "  return np.sin(x)\n",
        "#use generated sin(x) to generate sample.\n",
        "#input:x,x+1,x+2... \n",
        "#output:x+2,x+3,x+4...\n",
        "def TrainDataGen(seq,k):\n",
        "  L=len(seq)\n",
        "  gap=20\n",
        "  data_size=np.int(np.ceil((L-k-1)/gap))\n",
        "  print(data_size)\n",
        "  indat=np.zeros((data_size,k),np.float64)\n",
        "  outdat=np.zeros((data_size,k),np.float64)\n",
        "  indat_list = list()\n",
        "  outdat_list=list()\n",
        "  for i in range(0,data_size):\n",
        "#    indat[i,:]=seq[i*gap:i*gap+k]\n",
        "#    outdat[i,:]=seq[i*gap+1:i*gap+k+1]\n",
        "    indat=seq[i*gap:i*gap+k]\n",
        "    outdat=seq[i*gap+1:i*gap+k+1]\n",
        "#    print(i)\n",
        "    indat_list.append((indat))\n",
        "    outdat_list.append((outdat))\n",
        "#  return indat, outdat\n",
        "  return indat_list, outdat_list\n",
        "\n",
        "#y = SeriesGen(10)\n",
        "#[seq_in,seq_out] = TrainDataGen(y, 10)\n",
        "#plt.figure(1)\n",
        "###integral\n",
        "#plt.subplot(211)\n",
        "#plt.plot(y)\n",
        "###local\n",
        "#plt.subplot(212)\n",
        "#plt.plot(seq_in[0][:])\n",
        "#plt.plot(seq_out[0][:])\n",
        "## reshape input to be 3D [samples, timesteps, features]\n",
        "#n_in=seq_in.shape\n",
        "#n_out=seq_out.shape\n",
        "#seq_in=seq_in.reshape((n_in[0], n_in[1],1))\n",
        "#seq_out = seq_out.reshape((n_out[0], n_out[1] ,1))\n",
        "##\n",
        "#n_in=seq_in.shape\n",
        "#n_out=seq_out.shape\n",
        "    \n",
        "\n",
        "y = SeriesGen(10)\n",
        "[seq_in,seq_out] = TrainDataGen(y, 10)\n",
        "plt.figure(1)\n",
        "##integral\n",
        "plt.subplot(211)\n",
        "plt.plot(y)\n",
        "##local\n",
        "plt.subplot(212)\n",
        "plt.plot(seq_in[0][:])\n",
        "plt.plot(seq_out[0][:])\n",
        "## reshape input to be 3D [samples, timesteps, features]\n",
        "n_in=seq_in.shape\n",
        "n_out=seq_out.shape\n",
        "seq_in=seq_in.reshape((n_in[0], n_in[1],1))\n",
        "seq_out = seq_out.reshape((n_out[0], n_out[1] ,1))\n",
        "#seq_in=seq_in.numpy()\n",
        "#seq_out = seq_out.numpy()\n",
        "seq_in = numpy.array(seq_in)\n",
        "seq_out=numpy.array(seq_out)\n",
        "##\n",
        "n_in=seq_in.shape\n",
        "n_out=seq_out.shape\n",
        "\n",
        "#%%\n",
        "num_unit=100\n",
        "# define encoder\n",
        "#visible = Input(shape=(20,n_in[1],1))\n",
        "visible = Input(shape=(n_in[1],1))\n",
        "encoder = LSTM(num_unit, activation='relu')(visible)\n",
        "# define reconstruct decoder\n",
        "decoder1 = RepeatVector(n_in[1])(encoder)\n",
        "decoder1 = LSTM(num_unit, activation='relu', return_sequences=True)(decoder1)\n",
        "decoder1 = TimeDistributed(Dense(1))(decoder1)\n",
        "# define predict decoder\n",
        "decoder2 = RepeatVector(n_out[1])(encoder)\n",
        "decoder2 = LSTM(num_unit, activation='relu', return_sequences=True)(decoder2)\n",
        "decoder2 = TimeDistributed(Dense(1))(decoder2)\n",
        "# tie it together\n",
        "model = Model(inputs=visible, outputs=[decoder1, decoder2])\n",
        "model.compile(optimizer='adam', loss='mse')\n",
        "plot_model(model, show_shapes=True, to_file='lstm_autoencoder.png')\n",
        "img=mpimg.imread('lstm_autoencoder.png')\n",
        "imgplot = plt.imshow(img)\n",
        "#%%\n",
        "# fit model\n",
        "model.fit(seq_in, [seq_in,seq_out], batch_size=45, epochs=300, verbose=2)\n",
        "#%%\n",
        "loss=model.evaluate(x=seq_in, y=[seq_in,seq_out],verbose=1)\n",
        "#%%\n",
        "# demonstrate prediction\n",
        "#yhat = model.predict(seq_in[0,:,0].reshape(1,n_out[1],1),verbose=2)\n",
        "yhat = model.predict(seq_in,verbose=2)\n",
        "\n",
        "#print(yhat)\n",
        "\n",
        "#%%\n",
        "plt.subplot(211)\n",
        "plt.plot(yhat[0][0,:,0])\n",
        "plt.plot(seq_in[0,:,0])\n",
        "plt.legend(['reconstruct','raw'])\n",
        "plt.subplot(212)\n",
        "plt.plot(yhat[1][0,:,0])\n",
        "plt.plot(seq_out[0,:,0])\n",
        "plt.legend(['predict','real predict'])\n",
        "\n",
        "\n",
        "\n",
        "\n",
        "\n",
        "\n",
        "#%%\n",
        "\n",
        "\n",
        "\n",
        "\n",
        "# lstm autoencoder reconstruct and predict sequence\n",
        "from numpy import array\n",
        "from keras.models import Model\n",
        "from keras.layers import Input\n",
        "from keras.layers import LSTM\n",
        "from keras.layers import Dense\n",
        "from keras.layers import RepeatVector\n",
        "from keras.layers import TimeDistributed\n",
        "from keras.utils import plot_model\n",
        "# define input sequence\n",
        "seq_in = array([0.1, 0.2, 0.3, 0.4, 0.5, 0.6, 0.7, 0.8, 0.9])\n",
        "# reshape input into [samples, timesteps, features]\n",
        "n_in = len(seq_in)\n",
        "seq_in = seq_in.reshape((1, n_in, 1))\n",
        "# prepare output sequence\n",
        "seq_out = seq_in[:, 1:, :]\n",
        "n_out = n_in - 1\n",
        "# define encoder\n",
        "visible = Input(shape=(n_in,1))\n",
        "encoder = LSTM(100, activation='relu')(visible)\n",
        "# define reconstruct decoder\n",
        "decoder1 = RepeatVector(n_in)(encoder)\n",
        "decoder1 = LSTM(100, activation='relu', return_sequences=True)(decoder1)\n",
        "decoder1 = TimeDistributed(Dense(1))(decoder1)\n",
        "# define predict decoder\n",
        "decoder2 = RepeatVector(n_out)(encoder)\n",
        "decoder2 = LSTM(100, activation='relu', return_sequences=True)(decoder2)\n",
        "decoder2 = TimeDistributed(Dense(1))(decoder2)\n",
        "# tie it together\n",
        "model = Model(inputs=visible, outputs=[decoder1, decoder2])\n",
        "model.compile(optimizer='adam', loss='mse')\n",
        "plot_model(model, show_shapes=True, to_file='composite_lstm_autoencoder.png')\n",
        "img=mpimg.imread('composite_lstm_autoencoder.png')\n",
        "imgplot = plt.imshow(img)\n",
        "# fit model\n",
        "model.fit(seq_in, [seq_in,seq_out], epochs=300, verbose=0)\n",
        "# demonstrate prediction\n",
        "yhat = model.predict(seq_in, verbose=0)\n",
        "print(yhat)\n",
        "\n",
        "\n",
        "\n",
        "\n",
        "\n",
        "\n",
        "\n",
        "\n",
        "\n",
        "\n",
        "\n",
        "\n",
        "\n",
        "\n",
        "\n",
        "\n",
        "\n",
        "\n",
        "\n",
        "\n",
        "\n",
        "\n",
        "\n",
        "\n",
        "\n",
        "\n",
        "\n",
        "\n",
        "\n",
        "\n",
        "\n",
        "\n",
        "\n",
        "\n",
        "\n",
        "\n",
        "\n",
        "\n",
        "\n",
        "\n",
        "\n",
        "\n",
        "\n",
        "\n",
        "\n",
        "\n",
        "\n",
        "\n",
        "\n",
        "\n",
        "\n",
        "\n",
        "\n"
      ],
      "execution_count": 0,
      "outputs": [
        {
          "output_type": "stream",
          "text": [
            "Using TensorFlow backend.\n"
          ],
          "name": "stderr"
        },
        {
          "output_type": "stream",
          "text": [
            "45\n"
          ],
          "name": "stdout"
        },
        {
          "output_type": "error",
          "ename": "AttributeError",
          "evalue": "ignored",
          "traceback": [
            "\u001b[0;31m---------------------------------------------------------------------------\u001b[0m",
            "\u001b[0;31mAttributeError\u001b[0m                            Traceback (most recent call last)",
            "\u001b[0;32m<ipython-input-1-cac878dc2a5c>\u001b[0m in \u001b[0;36m<module>\u001b[0;34m()\u001b[0m\n\u001b[1;32m    126\u001b[0m \u001b[0mplt\u001b[0m\u001b[0;34m.\u001b[0m\u001b[0mplot\u001b[0m\u001b[0;34m(\u001b[0m\u001b[0mseq_out\u001b[0m\u001b[0;34m[\u001b[0m\u001b[0;36m0\u001b[0m\u001b[0;34m]\u001b[0m\u001b[0;34m[\u001b[0m\u001b[0;34m:\u001b[0m\u001b[0;34m]\u001b[0m\u001b[0;34m)\u001b[0m\u001b[0;34m\u001b[0m\u001b[0;34m\u001b[0m\u001b[0m\n\u001b[1;32m    127\u001b[0m \u001b[0;31m## reshape input to be 3D [samples, timesteps, features]\u001b[0m\u001b[0;34m\u001b[0m\u001b[0;34m\u001b[0m\u001b[0;34m\u001b[0m\u001b[0m\n\u001b[0;32m--> 128\u001b[0;31m \u001b[0mn_in\u001b[0m\u001b[0;34m=\u001b[0m\u001b[0mseq_in\u001b[0m\u001b[0;34m.\u001b[0m\u001b[0mshape\u001b[0m\u001b[0;34m\u001b[0m\u001b[0;34m\u001b[0m\u001b[0m\n\u001b[0m\u001b[1;32m    129\u001b[0m \u001b[0mn_out\u001b[0m\u001b[0;34m=\u001b[0m\u001b[0mseq_out\u001b[0m\u001b[0;34m.\u001b[0m\u001b[0mshape\u001b[0m\u001b[0;34m\u001b[0m\u001b[0;34m\u001b[0m\u001b[0m\n\u001b[1;32m    130\u001b[0m \u001b[0mseq_in\u001b[0m\u001b[0;34m=\u001b[0m\u001b[0mseq_in\u001b[0m\u001b[0;34m.\u001b[0m\u001b[0mreshape\u001b[0m\u001b[0;34m(\u001b[0m\u001b[0;34m(\u001b[0m\u001b[0mn_in\u001b[0m\u001b[0;34m[\u001b[0m\u001b[0;36m0\u001b[0m\u001b[0;34m]\u001b[0m\u001b[0;34m,\u001b[0m \u001b[0mn_in\u001b[0m\u001b[0;34m[\u001b[0m\u001b[0;36m1\u001b[0m\u001b[0;34m]\u001b[0m\u001b[0;34m,\u001b[0m\u001b[0;36m1\u001b[0m\u001b[0;34m)\u001b[0m\u001b[0;34m)\u001b[0m\u001b[0;34m\u001b[0m\u001b[0;34m\u001b[0m\u001b[0m\n",
            "\u001b[0;31mAttributeError\u001b[0m: 'list' object has no attribute 'shape'"
          ]
        },
        {
          "output_type": "display_data",
          "data": {
            "image/png": "[encoded data removed]",
            "text/plain": [
              "<Figure size 432x288 with 2 Axes>"
            ]
          },
          "metadata": {
            "tags": []
          }
        }
      ]
    },
    {
      "metadata": {
        "id": "zI717QdSTRSQ",
        "colab_type": "code",
        "colab": {}
      },
      "cell_type": "code",
      "source": [
        "# -*- coding: utf-8 -*-\n",
        "\"\"\"\n",
        "Created on Fri Apr 12 16:34:29 2019\n",
        "\n",
        "@author: Rigel\n",
        "\"\"\"\n",
        "#\n",
        "#from keras.models import Sequential\n",
        "#from keras.layers import Dense\n",
        "\n",
        "\n",
        "#\n",
        "#\n",
        "##%%\n",
        "#model = Sequential([Dense(2, input_dim=1), Dense(1)])\n",
        "##or\n",
        "##model = Sequential()\n",
        "##model.add(Dense(2, input_dim=1))\n",
        "##model.add(Dense(1))\n",
        "#\n",
        "##%%\n",
        "#from keras.layers import Input\n",
        "#visible = Input(shape=(2,))\n",
        "#\n",
        "#\n",
        "##%%\n",
        "#from keras.layers import Input\n",
        "#from keras.layers import Dense\n",
        "#visible = Input(shape=(2,))\n",
        "#hidden = Dense(2)(visible)\n",
        "\n",
        "\n",
        "\n",
        "\n",
        "\n",
        "#\n",
        "##%% Multilayer Perceptron\n",
        "#from keras.utils import plot_model\n",
        "#from keras.models import Model\n",
        "#from keras.layers import Input\n",
        "#from keras.layers import Dense\n",
        "#visible = Input(shape=(10,))\n",
        "#hidden1 = Dense(10, activation='relu')(visible)\n",
        "#hidden2 = Dense(20, activation='relu')(hidden1)\n",
        "#hidden3 = Dense(10, activation='relu')(hidden2)\n",
        "#output = Dense(1, activation='sigmoid')(hidden3)\n",
        "#model = Model(inputs=visible, outputs=output)\n",
        "## summarize layers\n",
        "#print(model.summary())\n",
        "## plot graph\n",
        "#plot_model(model, to_file='multilayer_perceptron_graph.png')\n",
        "#\n",
        "#\n",
        "#\n",
        "#%%\n",
        "import numpy as np\n",
        "from keras.models import Model\n",
        "from keras.layers import Input\n",
        "from keras.layers import LSTM\n",
        "from keras.layers import Dense\n",
        "from keras.layers import RepeatVector\n",
        "from keras.layers import TimeDistributed\n",
        "from keras.utils import plot_model\n",
        "#%matplotlib inline\n",
        "import matplotlib\n",
        "import matplotlib.pyplot as plt\n",
        "import matplotlib.image as mpimg\n",
        "\n",
        "\n",
        "#%% generate data\n",
        "#generate sin(x)\n",
        "def SeriesGen(N):\n",
        "  x=np.arange(1,N,0.01)\n",
        "  return np.sin(x)\n",
        "#use generated sin(x) to generate sample.\n",
        "#input:x,x+1,x+2... \n",
        "#output:x+2,x+3,x+4...\n",
        "def TrainDataGen(seq,k):\n",
        "  L=len(seq)\n",
        "  gap=20\n",
        "  data_size=np.int(np.ceil((L-k-1)/gap))\n",
        "  print(data_size)\n",
        "  indat=np.zeros((data_size,k),np.float64)\n",
        "  outdat=np.zeros((data_size,k),np.float64)\n",
        "  indat_list = list()\n",
        "  outdat_list=list()\n",
        "  for i in range(0,data_size):\n",
        "#    indat[i,:]=seq[i*gap:i*gap+k]\n",
        "#    outdat[i,:]=seq[i*gap+1:i*gap+k+1]\n",
        "    indat=seq[i*gap:i*gap+k]\n",
        "    outdat=seq[i*gap+1:i*gap+k+1]\n",
        "#    print(i)\n",
        "    indat_list.append((indat))\n",
        "    outdat_list.append((outdat))\n",
        "#  return indat, outdat\n",
        "  return indat_list, outdat_list\n",
        "\n",
        "#y = SeriesGen(10)\n",
        "#[seq_in,seq_out] = TrainDataGen(y, 10)\n",
        "#plt.figure(1)\n",
        "###integral\n",
        "#plt.subplot(211)\n",
        "#plt.plot(y)\n",
        "###local\n",
        "#plt.subplot(212)\n",
        "#plt.plot(seq_in[0][:])\n",
        "#plt.plot(seq_out[0][:])\n",
        "## reshape input to be 3D [samples, timesteps, features]\n",
        "#n_in=seq_in.shape\n",
        "#n_out=seq_out.shape\n",
        "#seq_in=seq_in.reshape((n_in[0], n_in[1],1))\n",
        "#seq_out = seq_out.reshape((n_out[0], n_out[1] ,1))\n",
        "##\n",
        "#n_in=seq_in.shape\n",
        "#n_out=seq_out.shape\n",
        "    \n",
        "\n",
        "y = SeriesGen(10)\n",
        "[seq_in,seq_out] = TrainDataGen(y, 10)\n",
        "plt.figure(1)\n",
        "##integral\n",
        "plt.subplot(211)\n",
        "plt.plot(y)\n",
        "##local\n",
        "plt.subplot(212)\n",
        "plt.plot(seq_in[0][:])\n",
        "plt.plot(seq_out[0][:])\n",
        "## reshape input to be 3D [samples, timesteps, features]\n",
        "n_in=seq_in.shape\n",
        "n_out=seq_out.shape\n",
        "seq_in=seq_in.reshape((n_in[0], n_in[1],1))\n",
        "seq_out = seq_out.reshape((n_out[0], n_out[1] ,1))\n",
        "#seq_in=seq_in.numpy()\n",
        "#seq_out = seq_out.numpy()\n",
        "seq_in = numpy.array(seq_in)\n",
        "seq_out=numpy.array(seq_out)\n",
        "##\n",
        "n_in=seq_in.shape\n",
        "n_out=seq_out.shape\n",
        "\n",
        "#%%\n",
        "num_unit=100\n",
        "# define encoder\n",
        "#visible = Input(shape=(20,n_in[1],1))\n",
        "visible = Input(shape=(n_in[1],1))\n",
        "encoder = LSTM(num_unit, activation='relu')(visible)\n",
        "# define reconstruct decoder\n",
        "decoder1 = RepeatVector(n_in[1])(encoder)\n",
        "decoder1 = LSTM(num_unit, activation='relu', return_sequences=True)(decoder1)\n",
        "decoder1 = TimeDistributed(Dense(1))(decoder1)\n",
        "# define predict decoder\n",
        "decoder2 = RepeatVector(n_out[1])(encoder)\n",
        "decoder2 = LSTM(num_unit, activation='relu', return_sequences=True)(decoder2)\n",
        "decoder2 = TimeDistributed(Dense(1))(decoder2)\n",
        "# tie it together\n",
        "model = Model(inputs=visible, outputs=[decoder1, decoder2])\n",
        "model.compile(optimizer='adam', loss='mse')\n",
        "plot_model(model, show_shapes=True, to_file='lstm_autoencoder.png')\n",
        "img=mpimg.imread('lstm_autoencoder.png')\n",
        "imgplot = plt.imshow(img)\n",
        "#%%\n",
        "# fit model\n",
        "model.fit(seq_in, [seq_in,seq_out], batch_size=45, epochs=300, verbose=2)\n",
        "#%%\n",
        "loss=model.evaluate(x=seq_in, y=[seq_in,seq_out],verbose=1)\n",
        "#%%\n",
        "# demonstrate prediction\n",
        "#yhat = model.predict(seq_in[0,:,0].reshape(1,n_out[1],1),verbose=2)\n",
        "yhat = model.predict(seq_in,verbose=2)\n",
        "\n",
        "#print(yhat)\n",
        "\n",
        "#%%\n",
        "plt.subplot(211)\n",
        "plt.plot(yhat[0][0,:,0])\n",
        "plt.plot(seq_in[0,:,0])\n",
        "plt.legend(['reconstruct','raw'])\n",
        "plt.subplot(212)\n",
        "plt.plot(yhat[1][0,:,0])\n",
        "plt.plot(seq_out[0,:,0])\n",
        "plt.legend(['predict','real predict'])\n",
        "\n",
        "\n",
        "\n",
        "\n",
        "\n",
        "\n",
        "#%%\n",
        "\n",
        "\n",
        "\n",
        "\n",
        "# lstm autoencoder reconstruct and predict sequence\n",
        "from numpy import array\n",
        "from keras.models import Model\n",
        "from keras.layers import Input\n",
        "from keras.layers import LSTM\n",
        "from keras.layers import Dense\n",
        "from keras.layers import RepeatVector\n",
        "from keras.layers import TimeDistributed\n",
        "from keras.utils import plot_model\n",
        "# define input sequence\n",
        "seq_in = array([0.1, 0.2, 0.3, 0.4, 0.5, 0.6, 0.7, 0.8, 0.9])\n",
        "# reshape input into [samples, timesteps, features]\n",
        "n_in = len(seq_in)\n",
        "seq_in = seq_in.reshape((1, n_in, 1))\n",
        "# prepare output sequence\n",
        "seq_out = seq_in[:, 1:, :]\n",
        "n_out = n_in - 1\n",
        "# define encoder\n",
        "visible = Input(shape=(n_in,1))\n",
        "encoder = LSTM(100, activation='relu')(visible)\n",
        "# define reconstruct decoder\n",
        "decoder1 = RepeatVector(n_in)(encoder)\n",
        "decoder1 = LSTM(100, activation='relu', return_sequences=True)(decoder1)\n",
        "decoder1 = TimeDistributed(Dense(1))(decoder1)\n",
        "# define predict decoder\n",
        "decoder2 = RepeatVector(n_out)(encoder)\n",
        "decoder2 = LSTM(100, activation='relu', return_sequences=True)(decoder2)\n",
        "decoder2 = TimeDistributed(Dense(1))(decoder2)\n",
        "# tie it together\n",
        "model = Model(inputs=visible, outputs=[decoder1, decoder2])\n",
        "model.compile(optimizer='adam', loss='mse')\n",
        "plot_model(model, show_shapes=True, to_file='composite_lstm_autoencoder.png')\n",
        "img=mpimg.imread('composite_lstm_autoencoder.png')\n",
        "imgplot = plt.imshow(img)\n",
        "# fit model\n",
        "model.fit(seq_in, [seq_in,seq_out], epochs=300, verbose=0)\n",
        "# demonstrate prediction\n",
        "yhat = model.predict(seq_in, verbose=0)\n",
        "print(yhat)\n",
        "\n",
        "\n",
        "\n",
        "\n",
        "\n",
        "\n",
        "\n",
        "\n",
        "\n",
        "\n",
        "\n",
        "\n",
        "\n",
        "\n",
        "\n",
        "\n",
        "\n",
        "\n",
        "\n",
        "\n",
        "\n",
        "\n",
        "\n",
        "\n",
        "\n",
        "\n",
        "\n",
        "\n",
        "\n",
        "\n",
        "\n",
        "\n",
        "\n",
        "\n",
        "\n",
        "\n",
        "\n",
        "\n",
        "\n",
        "\n",
        "\n",
        "\n",
        "\n",
        "\n",
        "\n",
        "\n",
        "\n",
        "\n",
        "\n",
        "\n",
        "\n",
        "\n",
        "\n"
      ],
      "execution_count": 0,
      "outputs": []
    },
    {
      "metadata": {
        "id": "intWmmmcaCei",
        "colab_type": "code",
        "colab": {}
      },
      "cell_type": "code",
      "source": [
        "#%%\n",
        "import numpy as np\n",
        "from keras.models import Model\n",
        "from keras.layers import Input\n",
        "from keras.layers import LSTM\n",
        "from keras.layers import Dense\n",
        "from keras.layers import RepeatVector\n",
        "from keras.layers import TimeDistributed\n",
        "from keras.utils import plot_model\n",
        "%matplotlib inline\n",
        "import matplotlib\n",
        "import matplotlib.pyplot as plt\n",
        "import matplotlib.image as mpimg\n"
      ],
      "execution_count": 0,
      "outputs": []
    },
    {
      "metadata": {
        "id": "WBTTy0J6ZrR8",
        "colab_type": "code",
        "colab": {
          "base_uri": "https://localhost:8080/",
          "height": 286
        },
        "outputId": "74bc1380-f91b-4639-bbe7-ee57a3b6291e"
      },
      "cell_type": "code",
      "source": [
        "\n",
        "\n",
        "#%% generate data\n",
        "#generate sin(x)\n",
        "def SeriesGen(N):\n",
        "  x=np.arange(1,N,0.01)\n",
        "  return np.sin(x)\n",
        "#use generated sin(x) to generate sample.\n",
        "#input:x,x+1,x+2... \n",
        "#output:x+2,x+3,x+4...\n",
        "def TrainDataGen(seq,k):\n",
        "  L=len(seq)\n",
        "  gap=1\n",
        "  data_size=np.int(np.ceil((L-k-1)/gap))\n",
        "  print(data_size)\n",
        "  indat=np.zeros((data_size,k),np.float64)\n",
        "  outdat=np.zeros((data_size,k),np.float64)\n",
        "  indat_list = list()\n",
        "  outdat_list=list()\n",
        "  for i in range(0,data_size):\n",
        "    indat=seq[i*gap:i*gap+k]\n",
        "    outdat=seq[i*gap+1:i*gap+k+1]\n",
        "    indat_list.append((indat))\n",
        "    outdat_list.append((outdat))\n",
        "  indat_list = np.array(indat_list, dtype=np.float32)\n",
        "  outdat_list = np.array(outdat_list, dtype=np.float32)\n",
        "  return indat_list, outdat_list\n",
        "\n",
        "#y = SeriesGen(10)\n",
        "#[seq_in,seq_out] = TrainDataGen(y, 10)\n",
        "#plt.figure(1)\n",
        "###integral\n",
        "#plt.subplot(211)\n",
        "#plt.plot(y)\n",
        "###local\n",
        "#plt.subplot(212)\n",
        "#plt.plot(seq_in[0][:])\n",
        "#plt.plot(seq_out[0][:])\n",
        "## reshape input to be 3D [samples, timesteps, features]\n",
        "#n_in=seq_in.shape\n",
        "#n_out=seq_out.shape\n",
        "#seq_in=seq_in.reshape((n_in[0], n_in[1],1))\n",
        "#seq_out = seq_out.reshape((n_out[0], n_out[1] ,1))\n",
        "##\n",
        "#n_in=seq_in.shape\n",
        "#n_out=seq_out.shape\n",
        "    \n",
        "\n",
        "y = SeriesGen(20)\n",
        "#[seq_in,seq_out] = TrainDataGen(y, 20)\n",
        "\n",
        "seq_in=y[1:31]\n",
        "seq_out=y[2:32]\n",
        "\"\"\"\n",
        "plt.figure(1)\n",
        "##integral\n",
        "plt.subplot(211)\n",
        "plt.plot(y)\n",
        "##local\n",
        "plt.subplot(212)\n",
        "plt.plot(seq_in[0][:])\n",
        "plt.plot(seq_out[0][:])\n",
        "## reshape input to be 3D [samples, timesteps, features]\n",
        "n_in=seq_in.shape\n",
        "n_out=seq_out.shape\n",
        "seq_in=seq_in.reshape((n_in[0], n_in[1],1))\n",
        "seq_out = seq_out.reshape((n_out[0], n_out[1] ,1))\n",
        "#seq_in=seq_in.numpy()\n",
        "#seq_out = seq_out.numpy()\n",
        "seq_in = np.array(seq_in)\n",
        "seq_out=np.array(seq_out)\n",
        "##\n",
        "n_in=seq_in.shape\n",
        "n_out=seq_out.shape\n",
        "\"\"\"\n",
        "plt.figure(1)\n",
        "##integral\n",
        "plt.subplot(211)\n",
        "plt.plot(y)\n",
        "##local\n",
        "plt.subplot(212)\n",
        "plt.plot(seq_in)\n",
        "plt.plot(seq_out)\n",
        "## reshape input to be 3D [samples, timesteps, features]\n",
        "n_in=seq_in.shape\n",
        "n_out=seq_out.shape\n",
        "print(n_in)\n",
        "seq_in=seq_in.reshape((1, n_in[0],1))\n",
        "seq_out = seq_out.reshape((1,n_out[0] ,1))\n",
        "#seq_in=seq_in.numpy()\n",
        "#seq_out = seq_out.numpy()\n",
        "seq_in = np.array(seq_in)\n",
        "seq_out=np.array(seq_out)\n",
        "##\n",
        "n_in=seq_in.shape\n",
        "n_out=seq_out.shape\n"
      ],
      "execution_count": 79,
      "outputs": [
        {
          "output_type": "stream",
          "text": [
            "(30,)\n"
          ],
          "name": "stdout"
        },
        {
          "output_type": "display_data",
          "data": {
            "image/png": "[encoded data removed]",
            "text/plain": [
              "<Figure size 432x288 with 2 Axes>"
            ]
          },
          "metadata": {
            "tags": []
          }
        }
      ]
    },
    {
      "metadata": {
        "id": "JEAVMVgJZ7Th",
        "colab_type": "code",
        "colab": {
          "base_uri": "https://localhost:8080/",
          "height": 176
        },
        "outputId": "905cba73-8095-4b8e-e3f5-5017cff5d0a6"
      },
      "cell_type": "code",
      "source": [
        "#%%\n",
        "num_unit=100\n",
        "# define encoder\n",
        "#visible = Input(shape=(20,n_in[1],1))\n",
        "visible = Input(shape=(n_in[1],1))\n",
        "encoder = LSTM(num_unit, activation='relu')(visible)\n",
        "# define reconstruct decoder\n",
        "decoder1 = RepeatVector(n_in[1])(encoder)\n",
        "decoder1 = LSTM(num_unit, activation='relu', return_sequences=True)(decoder1)\n",
        "decoder1 = TimeDistributed(Dense(1))(decoder1)\n",
        "# define predict decoder\n",
        "decoder2 = RepeatVector(n_out[1])(encoder)\n",
        "decoder2 = LSTM(num_unit, activation='relu', return_sequences=True)(decoder2)\n",
        "decoder2 = TimeDistributed(Dense(1))(decoder2)\n",
        "# tie it together\n",
        "model = Model(inputs=visible, outputs=[decoder1, decoder2])\n",
        "model.compile(optimizer='adam', loss='mse')\n",
        "plot_model(model, show_shapes=True, to_file='lstm_autoencoder.png')\n",
        "img=mpimg.imread('lstm_autoencoder.png')\n",
        "imgplot = plt.imshow(img)"
      ],
      "execution_count": 80,
      "outputs": [
        {
          "output_type": "display_data",
          "data": {
            "image/png": "[encoded data removed]",
            "text/plain": [
              "<Figure size 432x288 with 1 Axes>"
            ]
          },
          "metadata": {
            "tags": []
          }
        }
      ]
    },
    {
      "metadata": {
        "id": "laIKdNPeZ3vD",
        "colab_type": "code",
        "colab": {
          "base_uri": "https://localhost:8080/",
          "height": 69
        },
        "outputId": "834bf4d7-4391-4a9d-b5b6-71ba254585d1"
      },
      "cell_type": "code",
      "source": [
        "#%%\n",
        "# fit model\n",
        "#model.fit(seq_in, [seq_in,seq_out], batch_size=10, epochs=4, verbose=2)\n",
        "model.fit(seq_in, [seq_in,seq_out],epochs=1, verbose=2)\n",
        "\n"
      ],
      "execution_count": 112,
      "outputs": [
        {
          "output_type": "stream",
          "text": [
            "Epoch 1/1\n",
            " - 0s - loss: 2.6110e-05 - time_distributed_11_loss: 7.5602e-06 - time_distributed_12_loss: 1.8550e-05\n"
          ],
          "name": "stdout"
        },
        {
          "output_type": "execute_result",
          "data": {
            "text/plain": [
              "<keras.callbacks.History at 0x7f0d87966940>"
            ]
          },
          "metadata": {
            "tags": []
          },
          "execution_count": 112
        }
      ]
    },
    {
      "metadata": {
        "id": "QMjqZ8cLhGgh",
        "colab_type": "code",
        "colab": {
          "base_uri": "https://localhost:8080/",
          "height": 374
        },
        "outputId": "5e04ccf0-0eac-4876-c8d6-718ed80bed46"
      },
      "cell_type": "code",
      "source": [
        "#%%\n",
        "loss=model.evaluate(x=seq_in[0].reshape(1,n_in[1],1), y=[seq_in[0].reshape(1,n_in[1],1),seq_out[0].reshape(1,n_in[1],1)],verbose=1)\n",
        "print(loss)\n",
        "#%%\n",
        "# demonstrate prediction\n",
        "#yhat = model.predict(seq_in[0,:,0].reshape(1,n_out[1],1),verbose=2)\n",
        "yhat = model.predict(seq_in[0].reshape(1,n_in[1],1),verbose=2)\n",
        "#print(seq_in[0].reshape(1,n_in[1],1))\n",
        "#print(seq_out[0].reshape(1,n_out[1],1))\n",
        "\n",
        "\n",
        "#print(yhat)\n",
        "xxx=np.arange(1.00,0.01*(n_in[1]-1)+1.0,0.01)\n",
        "print(xxx)\n",
        "\n",
        "#%%\n",
        "plt.subplot(211)\n",
        "plt.plot(np.arange(1.0,0.01*(n_in[1]-1)+1.0,0.01),yhat[0][0,:,0].reshape(30,1))\n",
        "plt.plot(np.arange(1.0,0.01*(n_in[1]-1)+1.0,0.01),seq_in[0].reshape(30,1))\n",
        "plt.plot(np.arange(1.01,0.01*(200-1)+1.01,0.01),y[1:200])\n",
        "\n",
        "plt.legend(['reconstruct','raw','y'])\n",
        "plt.subplot(212)\n",
        "plt.plot(np.arange(1.01,0.01*(n_in[1]-1)+1.01,0.01),yhat[1][0,:,0].reshape(30,1))\n",
        "plt.plot(np.arange(1.01,0.01*(n_in[1]-1)+1.01,0.01),seq_out[0].reshape(30,1))\n",
        "#plt.plot(np.arange(1.01,0.01*(n_in[1]-1)+1.01,0.01),y[2:32])\n",
        "plt.plot(np.arange(1.01,0.01*(200-1)+1.01,0.01),y[1:200])\n",
        "\n",
        "plt.legend(['predict','real predict','y'])\n",
        "\n"
      ],
      "execution_count": 101,
      "outputs": [
        {
          "output_type": "stream",
          "text": [
            "\r1/1 [==============================] - 0s 8ms/step\n",
            "[4.037968028569594e-05, 1.27657594930497e-05, 2.761391988315154e-05]\n",
            "[1.   1.01 1.02 1.03 1.04 1.05 1.06 1.07 1.08 1.09 1.1  1.11 1.12 1.13\n",
            " 1.14 1.15 1.16 1.17 1.18 1.19 1.2  1.21 1.22 1.23 1.24 1.25 1.26 1.27\n",
            " 1.28 1.29]\n"
          ],
          "name": "stdout"
        },
        {
          "output_type": "execute_result",
          "data": {
            "text/plain": [
              "<matplotlib.legend.Legend at 0x7f0d877c1c88>"
            ]
          },
          "metadata": {
            "tags": []
          },
          "execution_count": 101
        },
        {
          "output_type": "display_data",
          "data": {
            "image/png": "[encoded data removed]",
            "text/plain": [
              "<Figure size 432x288 with 2 Axes>"
            ]
          },
          "metadata": {
            "tags": []
          }
        }
      ]
    },
    {
      "metadata": {
        "id": "uZt4ihcVvQuM",
        "colab_type": "code",
        "colab": {}
      },
      "cell_type": "code",
      "source": [
        ""
      ],
      "execution_count": 0,
      "outputs": []
    }
  ]
}